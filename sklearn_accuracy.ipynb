{
 "cells": [
  {
   "cell_type": "code",
   "execution_count": 325,
   "metadata": {},
   "outputs": [
    {
     "name": "stdout",
     "output_type": "stream",
     "text": [
      "Variable               Type             Data/Info\n",
      "-------------------------------------------------\n",
      "Feat_Fin               DataFrame                       max_id    <...>n\\n[104 rows x 7 columns]\n",
      "Feature_list_lengths   list             n=0\n",
      "Json_obj               str              ['B:MUTA:COMP:ERBB2::', '<...>732:USP39:TssD261:Shore']\n",
      "ax                     AxesSubplot      AxesSubplot(0.125,0.125;0.775x0.755)\n",
      "bool_count             Series           0       True\\n1       Tru<...> Length: 104, dtype: bool\n",
      "c                      Series           3     [\"B:MUTA:LOF:CDK6::<...>_feat_list, dtype: object\n",
      "c_typ                  str              UVM\n",
      "cncr_typs              list             n=26\n",
      "data                   list             n=1\n",
      "df                     DataFrame                                 <...>\\n[104 rows x 23 columns]\n",
      "f                      Figure           Figure(432x648)\n",
      "fbd_filt               DataFrame                                 <...>n\\n[79 rows x 23 columns]\n",
      "fbed_count             DataFrame                                 <...>n\\n[79 rows x 18 columns]\n",
      "fbool                  Series           0       True\\n1       Tru<...> Length: 104, dtype: bool\n",
      "feat                   DataFrame                        Feature_S<...>MUTA:COMP:MGA::\"\", \"\"B...\n",
      "feat_lst               list             n=405\n",
      "feat_strng             str              [\"N:GEXP::AQP1:358:\", \"N:<...>:\", \"N:GEXP::VASP:7408:\"]\n",
      "ffbool                 Series           0       True\\n1       Tru<...> Length: 104, dtype: bool\n",
      "hyb                    DataFrame           Unnamed: 0  fbed_ada_A<...>n\\n[7 rows x 573 columns]\n",
      "i                      int              24\n",
      "ii                     str              UVM\n",
      "json                   module           <module 'json' from '/Use<...>hon3.7/json/__init__.py'>\n",
      "label_ob               DataFrame                                 <...>\\n[104 rows x 23 columns]\n",
      "list                   list             n=28\n",
      "list_feat              list             n=15\n",
      "list_n                 str              rfe_feat_list_chek\n",
      "loaded_list            str              [\"B:MUTA:COMP:ERBB2::\", \"<...>71:ATP1A3:TssU213:Shore\"]\n",
      "max_count              str              ['B:MUTA:COMP:ERBB2::', '<...>732:USP39:TssD261:Shore']\n",
      "max_id                 float            nan\n",
      "max_score              float            nan\n",
      "np                     module           <module 'numpy' from '/Us<...>kages/numpy/__init__.py'>\n",
      "palette                _ColorPalette    [(0.6672529243333334, 0.7<...>441, 0.6122929913333334)]\n",
      "pd                     module           <module 'pandas' from '/U<...>ages/pandas/__init__.py'>\n",
      "plt                    module           <module 'matplotlib.pyplo<...>es/matplotlib/pyplot.py'>\n",
      "rbool                  Series           0      False\\n1      Fals<...> Length: 104, dtype: bool\n",
      "rfbool                 Series           0       True\\n1       Tru<...> Length: 104, dtype: bool\n",
      "rfe_count              DataFrame                                 <...>n99  RFE-fbed_composite  \n",
      "rfe_filt               DataFrame                                 <...>n\\n[25 rows x 25 columns]\n",
      "rfe_filt_sort          DataFrame                                 <...>n\\n[25 rows x 25 columns]\n",
      "rfe_run                list             n=1845\n",
      "row                    int              6\n",
      "sda_feats              DataFrame                                 <...>\"N:GEXP::FBXW12:2852...  \n",
      "snap_shot              DataFrame                     Max_ID  Max_<...>\\n46     fbed_dt_LGGGBM  \n",
      "sns                    module           <module 'seaborn' from '/<...>ges/seaborn/__init__.py'>\n",
      "stor_list              list             n=763\n",
      "sub_row                Series           fbed_ada_UVM      NaN\\nfb<...>\\nName: 6, dtype: float64\n",
      "tmp                    DataFrame           max_id  score\\n0     NaN    NaN\n",
      "x                      str              [\"B:MUTA:nons:ACVR2A::\", <...>46866:MLH1:TssD59:Shore\"]\n",
      "y                      list             n=75\n"
     ]
    }
   ],
   "source": [
    "%whos"
   ]
  },
  {
   "cell_type": "code",
   "execution_count": 1,
   "metadata": {},
   "outputs": [
    {
     "data": {
      "text/plain": [
       "'/Users/karlberb/work/tmp/v8/hc'"
      ]
     },
     "execution_count": 1,
     "metadata": {},
     "output_type": "execute_result"
    }
   ],
   "source": [
    "pwd"
   ]
  },
  {
   "cell_type": "code",
   "execution_count": 1,
   "metadata": {},
   "outputs": [],
   "source": [
    "#feat_calc_pred\n",
    "import pandas as pd\n",
    "import json\n",
    "import numpy as np\n",
    "import matplotlib.pyplot as plt"
   ]
  },
  {
   "cell_type": "code",
   "execution_count": 2,
   "metadata": {},
   "outputs": [],
   "source": [
    "feat=pd.read_csv('/Users/karlberb/work/tmp/v8/Results/feat_3_col/fbed_rfe_feats.tsv')"
   ]
  },
  {
   "cell_type": "code",
   "execution_count": 6,
   "metadata": {},
   "outputs": [],
   "source": [
    "### .  ### Run for stacker\n",
    "cncr_typs=['ACC','BLCA','BRCA','CESC','COADREAD',\n",
    "            'ESCC','GEA','HNSC','KIRCKICH','KIRP',\n",
    "            'LGGGBM','LIHCCHOL','LUAD','LUSC','MESO',\n",
    "            'OV','PAAD','PCPG','PRAD','SARC',\n",
    "            'SKCM','TGCT','THCA','THYM','UCEC',\n",
    "            'UVM']"
   ]
  },
  {
   "cell_type": "code",
   "execution_count": 16,
   "metadata": {},
   "outputs": [],
   "source": [
    "### Run 1\n",
    "# features=['fbed']\n",
    "store_df2=pd.DataFrame() #Off for rfe run\n",
    "\n",
    "### Run 2\n",
    "features=['rfe']\n",
    "\n",
    "#clfs=['ada'] # Devel\n",
    "clfs=['ada','bnb','dt','et','gnb','knn','logreg','pa','rf','sgd','svm']\n",
    "cncr_typs=['ACC','BLCA','BRCA','CESC','COADREAD',\n",
    "            'ESCC','GEA','HNSC','KIRCKICH','KIRP',\n",
    "            'LGGGBM','LIHCCHOL','LUAD','LUSC','MESO',\n",
    "            'OV','PAAD','PCPG','PRAD','SARC',\n",
    "            'SKCM','TGCT','THCA','THYM','UCEC',\n",
    "            'UVM']\n",
    "            \n",
    "# Toggle on creation for fbed run \n",
    "# Toggle off rfe append run\n",
    "#\n",
    "\n",
    "###\n",
    "\n",
    "for i in features:\n",
    "    for j in clfs: # gausian process missing\n",
    "        for s, k in enumerate(cncr_typs):\n",
    "            #print(s)\n",
    "            #print(k)\n",
    "            \n",
    "            # Feature toggle for individual runs\n",
    "            #q=rfe_ext.iloc[s,2]\n",
    "#             q=feat.iloc[s,2]\n",
    "#             r=json.loads(q)\n",
    "#             ft_ct=len(r)\n",
    "            # I think the above carries from the plotting\n",
    "            \n",
    "#   ******    # Run 1\n",
    "            #file=pd.read_csv('/Users/karlberb/work/tmp/v8/Results/reprocess/'+i+'_'+j+'/'+k+'_'+i+'eBIC_'+j+'_predictions_20200331_bk.tsv')\n",
    "            \n",
    "            #Run 2\n",
    "            file=pd.read_csv('/Users/karlberb/work/tmp/v8/Results/reprocess/'+i+'_'+j+'/'+k+'_'+i+'_'+j+'_predictions_20200331_bk.tsv')\n",
    "            \n",
    "            #### .    ######\n",
    "   ######         \n",
    "            file=file[(file['Test']==1)] # Filter for test results # Critical #\n",
    "   ###### \n",
    "            ####      ######\n",
    "            \n",
    "            file.columns=['Sample_ID','Repeat','Fold','Test','Label','Prediction']\n",
    "\n",
    "            string=k+':'\n",
    "            file.Label=file.Label.str.replace(string,'')\n",
    "            file.Prediction=file.Prediction.str.replace(string,'')\n",
    "            file=file.sort_values(by=['Label','Prediction'])\n",
    "            \n",
    "            # Get number of features\n",
    "            sub_n_mx=file.Label.max()\n",
    "            sm=int(sub_n_mx)\n",
    "            \n",
    "            # Make iterable len of number of features\n",
    "            sm_plus1=sm+1\n",
    "            Y=np.arange(1,sm_plus1)\n",
    "            X=list(range(1,sm_plus1))\n",
    "            g_list=[]\n",
    "            data=[0]\n",
    "\n",
    "            # For each cancer with X subtypes:\n",
    "            for l in X:\n",
    "                m=str(l)\n",
    "                grnd_bool=file['Label']==m\n",
    "                grnd_full=file[grnd_bool]\n",
    "                gn=len(grnd_full)\n",
    "                g_list=g_list+[gn]\n",
    "                # Prediction lists\n",
    "                p_list=[]\n",
    "                # Make one for each g list\n",
    "                for n in Y:\n",
    "                    o=str(n)\n",
    "                    p_bool=grnd_full['Prediction']==o\n",
    "                    p_full=grnd_full[p_bool]\n",
    "                    p_len=len(p_full)\n",
    "                    p_list=p_list+[p_len]\n",
    "                    #print(p_len)\n",
    "                data.append(p_list)\n",
    "            data[0]=g_list\n",
    "            \n",
    "            # Begin analysis section step one, make 572 x 7\n",
    "            store=[] # This is a horizontal df\n",
    "            #Columns will be 572 combos\n",
    "            #Rows are subtypes, n=range(2,7)\n",
    "            for zer_indx, g_star in enumerate(g_list):\n",
    "                one_indx=zer_indx+1\n",
    "                p_lst=data[one_indx]\n",
    "                p_star=p_lst[zer_indx]\n",
    "                raw_acc=p_star/g_star\n",
    "                name=i+'_'+j+'_'+k\n",
    "                store.append(raw_acc)\n",
    "                dat={name:store}\n",
    "                temp_df=pd.DataFrame(dat)\n",
    "            store_df2=pd.concat([store_df2, temp_df], axis=1)\n",
    "            #Create store_df for fbed run, then toggle off\n",
    "        "
   ]
  },
  {
   "cell_type": "code",
   "execution_count": 18,
   "metadata": {},
   "outputs": [],
   "source": [
    "store_df2.to_csv('rfe_raw_sums.csv')"
   ]
  },
  {
   "cell_type": "code",
   "execution_count": 13,
   "metadata": {},
   "outputs": [
    {
     "data": {
      "text/plain": [
       "'/Users/karlberb/work/tmp/v8/hc'"
      ]
     },
     "execution_count": 13,
     "metadata": {},
     "output_type": "execute_result"
    }
   ],
   "source": [
    "pwd"
   ]
  },
  {
   "cell_type": "code",
   "execution_count": 22,
   "metadata": {},
   "outputs": [],
   "source": [
    "store_572 = pd.concat([store_df, store_df2], axis=1)"
   ]
  },
  {
   "cell_type": "code",
   "execution_count": 24,
   "metadata": {},
   "outputs": [],
   "source": [
    "store_572.to_csv('hybrid_raw_sums.csv')"
   ]
  },
  {
   "cell_type": "code",
   "execution_count": 3,
   "metadata": {},
   "outputs": [],
   "source": [
    "### .  ### Start here with file import\n",
    "hyb = pd.read_csv('hybrid_raw_sums.csv')"
   ]
  },
  {
   "cell_type": "code",
   "execution_count": null,
   "metadata": {},
   "outputs": [],
   "source": [
    "# Do calc on range of classifer differences"
   ]
  },
  {
   "cell_type": "code",
   "execution_count": 8,
   "metadata": {},
   "outputs": [
    {
     "name": "stdout",
     "output_type": "stream",
     "text": [
      "         max_id     score\n",
      "0   fbed_rf_ACC  0.991818\n",
      "0   fbed_rf_ACC  0.930417\n",
      "0  fbed_gnb_ACC  0.852105\n",
      "0   rfe_rf_BLCA  0.972230\n",
      "0  rfe_svm_BLCA  0.919841\n"
     ]
    }
   ],
   "source": [
    "### .  ### STACKER - use on store_572\n",
    "\n",
    "## This chunk stacks up the columns and deletes the NaNs\n",
    "\n",
    "# c_typ is cancer type from 572 columns headers\n",
    "#ct=store_df.filter(regex='ACC') #devel ?\n",
    "Feat_Fin=pd.DataFrame(columns=[\"max_id\",\"score\"]) #add fbed score colmn\n",
    "for ii in cncr_typs: # ii is ACC, BLCA, etc\n",
    "    c_typ=hyb.filter(regex=ii) # make canc typ spec df, 22 combo cols\n",
    "    # Should have same number subtype prediction rows\n",
    "    \n",
    "    for row in c_typ.index: # Look through the rows\n",
    "        sub_row=c_typ.iloc[row,:] # Extract all columns for each row\n",
    "        #print(sub_row) #series data type - important inspection step\n",
    "        \n",
    "        max_score=max(sub_row) # Pull the winning score\n",
    "        \n",
    "        max_id=sub_row.idxmax() # Pull corresponding ID, look up\n",
    "        data=[{'max_id':max_id,'score':max_score}]\n",
    "        tmp=pd.DataFrame(data,columns=[\"max_id\",\"score\"])\n",
    "        Feat_Fin=pd.concat([Feat_Fin,tmp])\n",
    "Feat_Fin=Feat_Fin.dropna()\n",
    "print(Feat_Fin.head())"
   ]
  }
 ],
 "metadata": {
  "kernelspec": {
   "display_name": "Python 3",
   "language": "python",
   "name": "python3"
  },
  "language_info": {
   "codemirror_mode": {
    "name": "ipython",
    "version": 3
   },
   "file_extension": ".py",
   "mimetype": "text/x-python",
   "name": "python",
   "nbconvert_exporter": "python",
   "pygments_lexer": "ipython3",
   "version": "3.7.3"
  }
 },
 "nbformat": 4,
 "nbformat_minor": 2
}
