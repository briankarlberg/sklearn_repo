{
 "cells": [
  {
   "cell_type": "code",
   "execution_count": 223,
   "metadata": {},
   "outputs": [
    {
     "name": "stdout",
     "output_type": "stream",
     "text": [
      "Variable             Type         Data/Info\n",
      "-------------------------------------------\n",
      "ACC                  DataFrame              Sample_ID  Repe<...>n[38000 rows x 6 columns]\n",
      "X                    list         n=3\n",
      "Y                    list         n=3\n",
      "a                    list         n=3\n",
      "c_typ                Series       0        False\\n1        <...>ength: 38000, dtype: bool\n",
      "c_typ_TEST           Series       0        False\\n1        <...>ength: 38000, dtype: bool\n",
      "cncr_typs            list         n=26\n",
      "dict_index_number    int          2\n",
      "file                 DataFrame              Sample_ID  Repe<...>\\n[7600 rows x 6 columns]\n",
      "i                    int          3\n",
      "j                    int          1899\n",
      "json                 module       <module 'json' from '/Use<...>hon3.7/json/__init__.py'>\n",
      "k                    str          ACC\n",
      "np                   module       <module 'numpy' from '/Us<...>kages/numpy/__init__.py'>\n",
      "number_of_subtypes   int          3\n",
      "pd                   module       <module 'pandas' from '/U<...>ages/pandas/__init__.py'>\n",
      "s                    int          0\n",
      "score_list           list         n=1900\n",
      "score_n              float        0.151333333333333\n",
      "series_of_uniques    Series       1    16500\\n2    12000\\n3<...>Name: Label, dtype: int64\n",
      "sm                   int          3\n",
      "statistics           module       <module 'statistics' from<...>python3.7/statistics.py'>\n",
      "store_df2            DataFrame    Empty DataFrame\\nColumns: []\\nIndex: []\n",
      "string               str          ACC:\n",
      "sub_n_mx             str          ACC_3\n",
      "subtype_means        list         n=3\n",
      "subtype_n            int          3\n",
      "subtype_n_str        str          3\n",
      "subtypes_end_range   int          4\n",
      "subype_n_mean        float        0.3910891228070175\n",
      "temp                 DataFrame              Sample_ID  Repe<...>\\n[1900 rows x 6 columns]\n",
      "temp_index           list         n=3301\n",
      "temp_len_end         int          3301\n",
      "temp_length          int          3300\n",
      "temp_re_ind          DataFrame          index     Sample_ID<...>\\n[1900 rows x 7 columns]\n",
      "x                    str          {\"classification\":{\"ACC_1<...>e\":{\"max\":1.0,\"min\":0.0}}\n",
      "y                    dict         n=2\n",
      "z                    str          {\"classification\": {\"ACC_<...>{\"max\": 1.0, \"min\": 0.0}}\n"
     ]
    }
   ],
   "source": [
    "%whos"
   ]
  },
  {
   "cell_type": "code",
   "execution_count": 4,
   "metadata": {},
   "outputs": [],
   "source": [
    "import pandas as pd\n",
    "import json"
   ]
  },
  {
   "cell_type": "code",
   "execution_count": 116,
   "metadata": {},
   "outputs": [],
   "source": [
    "import numpy as np"
   ]
  },
  {
   "cell_type": "code",
   "execution_count": 224,
   "metadata": {},
   "outputs": [
    {
     "data": {
      "text/plain": [
       "'/Users/karlberb/work/tmp/v8/Results/AKLIMATE/aklimate_predictions_and_features_20200422'"
      ]
     },
     "execution_count": 224,
     "metadata": {},
     "output_type": "execute_result"
    }
   ],
   "source": [
    "pwd"
   ]
  },
  {
   "cell_type": "code",
   "execution_count": 9,
   "metadata": {},
   "outputs": [
    {
     "name": "stdout",
     "output_type": "stream",
     "text": [
      "/Users/karlberb/work/tmp/v8/Results/AKLIMATE/aklimate_predictions_and_features_20200422\n"
     ]
    }
   ],
   "source": [
    "cd aklimate_predictions_and_features_20200422/ # folder that the above file are in"
   ]
  },
  {
   "cell_type": "code",
   "execution_count": 38,
   "metadata": {},
   "outputs": [],
   "source": [
    "ACC=pd.read_csv('predictions_collected_top_50_ranked_feature_importance_ACC_20200414.tsv',\n",
    "                delimiter='\\t', header=[1])"
   ]
  },
  {
   "cell_type": "code",
   "execution_count": 225,
   "metadata": {},
   "outputs": [
    {
     "data": {
      "text/html": [
       "<div>\n",
       "<style scoped>\n",
       "    .dataframe tbody tr th:only-of-type {\n",
       "        vertical-align: middle;\n",
       "    }\n",
       "\n",
       "    .dataframe tbody tr th {\n",
       "        vertical-align: top;\n",
       "    }\n",
       "\n",
       "    .dataframe thead th {\n",
       "        text-align: right;\n",
       "    }\n",
       "</style>\n",
       "<table border=\"1\" class=\"dataframe\">\n",
       "  <thead>\n",
       "    <tr style=\"text-align: right;\">\n",
       "      <th></th>\n",
       "      <th>Sample_ID</th>\n",
       "      <th>Repeat</th>\n",
       "      <th>Fold</th>\n",
       "      <th>Test</th>\n",
       "      <th>Label</th>\n",
       "      <th>AKLIMATE_ACC|AKLIMATE_COLLECTED_TOP_50_RANKED_FEATURE_IMPORTANCE|20200414|p</th>\n",
       "    </tr>\n",
       "  </thead>\n",
       "  <tbody>\n",
       "    <tr>\n",
       "      <th>0</th>\n",
       "      <td>TCGA-OR-A5J1</td>\n",
       "      <td>100</td>\n",
       "      <td>1</td>\n",
       "      <td>0</td>\n",
       "      <td>2</td>\n",
       "      <td>{\"classification\":{\"ACC_1\":0.110358835477319,\"...</td>\n",
       "    </tr>\n",
       "  </tbody>\n",
       "</table>\n",
       "</div>"
      ],
      "text/plain": [
       "      Sample_ID  Repeat  Fold  Test Label  \\\n",
       "0  TCGA-OR-A5J1     100     1     0     2   \n",
       "\n",
       "  AKLIMATE_ACC|AKLIMATE_COLLECTED_TOP_50_RANKED_FEATURE_IMPORTANCE|20200414|p  \n",
       "0  {\"classification\":{\"ACC_1\":0.110358835477319,\"...                           "
      ]
     },
     "execution_count": 225,
     "metadata": {},
     "output_type": "execute_result"
    }
   ],
   "source": [
    "ACC.head(1)"
   ]
  },
  {
   "cell_type": "code",
   "execution_count": 60,
   "metadata": {},
   "outputs": [],
   "source": [
    "file=ACC"
   ]
  },
  {
   "cell_type": "code",
   "execution_count": 226,
   "metadata": {},
   "outputs": [
    {
     "data": {
      "text/plain": [
       "7600"
      ]
     },
     "execution_count": 226,
     "metadata": {},
     "output_type": "execute_result"
    }
   ],
   "source": [
    "len(file)"
   ]
  },
  {
   "cell_type": "code",
   "execution_count": 62,
   "metadata": {},
   "outputs": [],
   "source": [
    "file=file[(file['Test']==1)] # Filter for tests on test set"
   ]
  },
  {
   "cell_type": "code",
   "execution_count": null,
   "metadata": {},
   "outputs": [],
   "source": [
    "training_scores=ACC[(ACC['Test']==1)]"
   ]
  },
  {
   "cell_type": "code",
   "execution_count": 63,
   "metadata": {},
   "outputs": [
    {
     "data": {
      "text/plain": [
       "7600"
      ]
     },
     "execution_count": 63,
     "metadata": {},
     "output_type": "execute_result"
    }
   ],
   "source": [
    "len(file)"
   ]
  },
  {
   "cell_type": "code",
   "execution_count": 71,
   "metadata": {},
   "outputs": [],
   "source": [
    "file.Label=file.Label.str[-1] # Pull ground truth of Cancer label"
   ]
  },
  {
   "cell_type": "code",
   "execution_count": 86,
   "metadata": {},
   "outputs": [
    {
     "data": {
      "text/plain": [
       "pandas.core.series.Series"
      ]
     },
     "execution_count": 86,
     "metadata": {},
     "output_type": "execute_result"
    }
   ],
   "source": [
    "type(file.Label)"
   ]
  },
  {
   "cell_type": "code",
   "execution_count": 91,
   "metadata": {},
   "outputs": [
    {
     "data": {
      "text/plain": [
       "(38000, 6)"
      ]
     },
     "execution_count": 91,
     "metadata": {},
     "output_type": "execute_result"
    }
   ],
   "source": [
    "ACC.shape # orinianl read-in dataframe"
   ]
  },
  {
   "cell_type": "code",
   "execution_count": 92,
   "metadata": {},
   "outputs": [
    {
     "data": {
      "text/plain": [
       "Index(['Sample_ID', 'Repeat', 'Fold', 'Test', 'Label',\n",
       "       'AKLIMATE_ACC|AKLIMATE_COLLECTED_TOP_50_RANKED_FEATURE_IMPORTANCE|20200414|p'],\n",
       "      dtype='object')"
      ]
     },
     "execution_count": 92,
     "metadata": {},
     "output_type": "execute_result"
    }
   ],
   "source": [
    "ACC.columns"
   ]
  },
  {
   "cell_type": "code",
   "execution_count": 93,
   "metadata": {},
   "outputs": [
    {
     "data": {
      "text/html": [
       "<div>\n",
       "<style scoped>\n",
       "    .dataframe tbody tr th:only-of-type {\n",
       "        vertical-align: middle;\n",
       "    }\n",
       "\n",
       "    .dataframe tbody tr th {\n",
       "        vertical-align: top;\n",
       "    }\n",
       "\n",
       "    .dataframe thead th {\n",
       "        text-align: right;\n",
       "    }\n",
       "</style>\n",
       "<table border=\"1\" class=\"dataframe\">\n",
       "  <thead>\n",
       "    <tr style=\"text-align: right;\">\n",
       "      <th></th>\n",
       "      <th>Sample_ID</th>\n",
       "      <th>Repeat</th>\n",
       "      <th>Fold</th>\n",
       "      <th>Test</th>\n",
       "      <th>Label</th>\n",
       "      <th>AKLIMATE_ACC|AKLIMATE_COLLECTED_TOP_50_RANKED_FEATURE_IMPORTANCE|20200414|p</th>\n",
       "    </tr>\n",
       "  </thead>\n",
       "  <tbody>\n",
       "    <tr>\n",
       "      <th>0</th>\n",
       "      <td>TCGA-OR-A5J1</td>\n",
       "      <td>100</td>\n",
       "      <td>1</td>\n",
       "      <td>0</td>\n",
       "      <td>ACC_2</td>\n",
       "      <td>{\"classification\":{\"ACC_1\":0.110358835477319,\"...</td>\n",
       "    </tr>\n",
       "    <tr>\n",
       "      <th>1</th>\n",
       "      <td>TCGA-OR-A5J2</td>\n",
       "      <td>100</td>\n",
       "      <td>1</td>\n",
       "      <td>0</td>\n",
       "      <td>ACC_2</td>\n",
       "      <td>{\"classification\":{\"ACC_1\":0.223482321547698,\"...</td>\n",
       "    </tr>\n",
       "    <tr>\n",
       "      <th>2</th>\n",
       "      <td>TCGA-OR-A5J3</td>\n",
       "      <td>100</td>\n",
       "      <td>1</td>\n",
       "      <td>0</td>\n",
       "      <td>ACC_3</td>\n",
       "      <td>{\"classification\":{\"ACC_1\":0.316099476439791,\"...</td>\n",
       "    </tr>\n",
       "    <tr>\n",
       "      <th>3</th>\n",
       "      <td>TCGA-OR-A5J5</td>\n",
       "      <td>100</td>\n",
       "      <td>1</td>\n",
       "      <td>0</td>\n",
       "      <td>ACC_3</td>\n",
       "      <td>{\"classification\":{\"ACC_1\":0.238562091503268,\"...</td>\n",
       "    </tr>\n",
       "    <tr>\n",
       "      <th>4</th>\n",
       "      <td>TCGA-OR-A5J6</td>\n",
       "      <td>100</td>\n",
       "      <td>1</td>\n",
       "      <td>0</td>\n",
       "      <td>ACC_1</td>\n",
       "      <td>{\"classification\":{\"ACC_1\":0.499320652173913,\"...</td>\n",
       "    </tr>\n",
       "  </tbody>\n",
       "</table>\n",
       "</div>"
      ],
      "text/plain": [
       "      Sample_ID  Repeat  Fold  Test  Label  \\\n",
       "0  TCGA-OR-A5J1     100     1     0  ACC_2   \n",
       "1  TCGA-OR-A5J2     100     1     0  ACC_2   \n",
       "2  TCGA-OR-A5J3     100     1     0  ACC_3   \n",
       "3  TCGA-OR-A5J5     100     1     0  ACC_3   \n",
       "4  TCGA-OR-A5J6     100     1     0  ACC_1   \n",
       "\n",
       "  AKLIMATE_ACC|AKLIMATE_COLLECTED_TOP_50_RANKED_FEATURE_IMPORTANCE|20200414|p  \n",
       "0  {\"classification\":{\"ACC_1\":0.110358835477319,\"...                           \n",
       "1  {\"classification\":{\"ACC_1\":0.223482321547698,\"...                           \n",
       "2  {\"classification\":{\"ACC_1\":0.316099476439791,\"...                           \n",
       "3  {\"classification\":{\"ACC_1\":0.238562091503268,\"...                           \n",
       "4  {\"classification\":{\"ACC_1\":0.499320652173913,\"...                           "
      ]
     },
     "execution_count": 93,
     "metadata": {},
     "output_type": "execute_result"
    }
   ],
   "source": [
    "ACC.head()"
   ]
  },
  {
   "cell_type": "code",
   "execution_count": 94,
   "metadata": {},
   "outputs": [],
   "source": [
    "x=ACC.iloc[0,5] # Start, extract, do for copy in loop which is file"
   ]
  },
  {
   "cell_type": "code",
   "execution_count": 97,
   "metadata": {},
   "outputs": [
    {
     "data": {
      "text/plain": [
       "'{\"classification\":{\"ACC_1\":0.110358835477319,\"ACC_2\":0.640487474610697,\"ACC_3\":0.249153689911984},\"range\":{\"max\":1.0,\"min\":0.0}}'"
      ]
     },
     "execution_count": 97,
     "metadata": {},
     "output_type": "execute_result"
    }
   ],
   "source": [
    "x # dictionary, pull values 1 throung n from key 1 for (26 cancers)"
   ]
  },
  {
   "cell_type": "code",
   "execution_count": 98,
   "metadata": {},
   "outputs": [],
   "source": [
    "y=json.loads(x)"
   ]
  },
  {
   "cell_type": "code",
   "execution_count": 99,
   "metadata": {},
   "outputs": [
    {
     "data": {
      "text/plain": [
       "dict"
      ]
     },
     "execution_count": 99,
     "metadata": {},
     "output_type": "execute_result"
    }
   ],
   "source": [
    "type(y)"
   ]
  },
  {
   "cell_type": "code",
   "execution_count": 82,
   "metadata": {},
   "outputs": [],
   "source": [
    "a=list(dict.values(y['classification'])) # could by up to 6"
   ]
  },
  {
   "cell_type": "code",
   "execution_count": 83,
   "metadata": {},
   "outputs": [
    {
     "data": {
      "text/plain": [
       "[0.110358835477319, 0.640487474610697, 0.249153689911984]"
      ]
     },
     "execution_count": 83,
     "metadata": {},
     "output_type": "execute_result"
    }
   ],
   "source": [
    "a # list of values with block of type 1 ground truth"
   ]
  },
  {
   "cell_type": "code",
   "execution_count": null,
   "metadata": {},
   "outputs": [],
   "source": [
    "\n",
    "\n",
    "         ######          Devel          #######\n",
    "    \n",
    "    "
   ]
  },
  {
   "cell_type": "code",
   "execution_count": null,
   "metadata": {},
   "outputs": [],
   "source": [
    "ACC.Label=ACC.Label.str[-1]"
   ]
  },
  {
   "cell_type": "code",
   "execution_count": 112,
   "metadata": {},
   "outputs": [],
   "source": [
    "number_of_subtypes=ACC.Label.max()"
   ]
  },
  {
   "cell_type": "code",
   "execution_count": 113,
   "metadata": {},
   "outputs": [
    {
     "data": {
      "text/plain": [
       "'3'"
      ]
     },
     "execution_count": 113,
     "metadata": {},
     "output_type": "execute_result"
    }
   ],
   "source": [
    "number_of_subtypes"
   ]
  },
  {
   "cell_type": "code",
   "execution_count": 187,
   "metadata": {},
   "outputs": [
    {
     "data": {
      "text/plain": [
       "[0, 1, 2]"
      ]
     },
     "execution_count": 187,
     "metadata": {},
     "output_type": "execute_result"
    }
   ],
   "source": [
    "Y=list(range(0,number_of_subtypes))\n",
    "Y"
   ]
  },
  {
   "cell_type": "code",
   "execution_count": 114,
   "metadata": {},
   "outputs": [
    {
     "data": {
      "text/plain": [
       "4"
      ]
     },
     "execution_count": 114,
     "metadata": {},
     "output_type": "execute_result"
    }
   ],
   "source": [
    "number_of_subtypes=int(number_of_subtypes)\n",
    "subtypes_end_range=number_of_subtypes+1\n",
    "subtypes_end_range"
   ]
  },
  {
   "cell_type": "code",
   "execution_count": 121,
   "metadata": {},
   "outputs": [],
   "source": [
    "X=list(range(1,subtypes_end_range))"
   ]
  },
  {
   "cell_type": "code",
   "execution_count": 122,
   "metadata": {},
   "outputs": [
    {
     "data": {
      "text/plain": [
       "[1, 2, 3]"
      ]
     },
     "execution_count": 122,
     "metadata": {},
     "output_type": "execute_result"
    }
   ],
   "source": [
    "X"
   ]
  },
  {
   "cell_type": "code",
   "execution_count": 119,
   "metadata": {},
   "outputs": [],
   "source": [
    "Y=np.arange(1,subtypes_end_range)"
   ]
  },
  {
   "cell_type": "code",
   "execution_count": 120,
   "metadata": {},
   "outputs": [
    {
     "data": {
      "text/plain": [
       "array([1, 2, 3])"
      ]
     },
     "execution_count": 120,
     "metadata": {},
     "output_type": "execute_result"
    }
   ],
   "source": [
    "Y"
   ]
  },
  {
   "cell_type": "code",
   "execution_count": 227,
   "metadata": {},
   "outputs": [],
   "source": [
    "series_of_uniques = file.Label.value_counts()"
   ]
  },
  {
   "cell_type": "code",
   "execution_count": null,
   "metadata": {},
   "outputs": [],
   "source": [
    "statistics.mean(score_list)\n",
    "0.6958736363636363"
   ]
  },
  {
   "cell_type": "code",
   "execution_count": null,
   "metadata": {},
   "outputs": [],
   "source": [
    "[0.6958736363636363, 0.5671305555555556, 0.3910891228070175]"
   ]
  },
  {
   "cell_type": "code",
   "execution_count": 233,
   "metadata": {},
   "outputs": [
    {
     "data": {
      "text/plain": [
       "2296.383"
      ]
     },
     "execution_count": 233,
     "metadata": {},
     "output_type": "execute_result"
    }
   ],
   "source": [
    "3300*.6958736363636363"
   ]
  },
  {
   "cell_type": "code",
   "execution_count": 228,
   "metadata": {},
   "outputs": [
    {
     "data": {
      "text/plain": [
       "1    3300\n",
       "2    2400\n",
       "3    1900\n",
       "Name: Label, dtype: int64"
      ]
     },
     "execution_count": 228,
     "metadata": {},
     "output_type": "execute_result"
    }
   ],
   "source": [
    "series_of_uniques"
   ]
  },
  {
   "cell_type": "code",
   "execution_count": 272,
   "metadata": {},
   "outputs": [],
   "source": [
    "c_typ='BRCA'"
   ]
  },
  {
   "cell_type": "code",
   "execution_count": 264,
   "metadata": {},
   "outputs": [
    {
     "name": "stdout",
     "output_type": "stream",
     "text": [
      "common_feature_set.tsv\n",
      "predictions_collected_top_50_ranked_feature_importance_ACC_20200414.tsv\n",
      "predictions_collected_top_50_ranked_feature_importance_BLCA_20200414.tsv\n",
      "predictions_collected_top_50_ranked_feature_importance_BRCA_20200417.tsv\n",
      "predictions_collected_top_50_ranked_feature_importance_CESC_20200417.tsv\n",
      "predictions_collected_top_50_ranked_feature_importance_COADREAD_20200414.tsv\n",
      "predictions_collected_top_50_ranked_feature_importance_ESCC_20200417.tsv\n",
      "predictions_collected_top_50_ranked_feature_importance_GEA_20200417.tsv\n",
      "predictions_collected_top_50_ranked_feature_importance_HNSC_20200417.tsv\n",
      "predictions_collected_top_50_ranked_feature_importance_KIRCKICH_20200417.tsv\n",
      "predictions_collected_top_50_ranked_feature_importance_KIRP_20200417.tsv\n",
      "predictions_collected_top_50_ranked_feature_importance_LGGGBM_20200417.tsv\n",
      "predictions_collected_top_50_ranked_feature_importance_LIHCCHOL_20200417.tsv\n",
      "predictions_collected_top_50_ranked_feature_importance_LUAD_20200417.tsv\n",
      "predictions_collected_top_50_ranked_feature_importance_LUSC_20200417.tsv\n",
      "predictions_collected_top_50_ranked_feature_importance_MESO_20200417.tsv\n",
      "predictions_collected_top_50_ranked_feature_importance_OV_20200417.tsv\n",
      "predictions_collected_top_50_ranked_feature_importance_PAAD_20200417.tsv\n",
      "predictions_collected_top_50_ranked_feature_importance_PCPG_20200417.tsv\n",
      "predictions_collected_top_50_ranked_feature_importance_PRAD_20200417.tsv\n",
      "predictions_collected_top_50_ranked_feature_importance_SARC_20200417.tsv\n",
      "predictions_collected_top_50_ranked_feature_importance_SKCM_20200417.tsv\n",
      "predictions_collected_top_50_ranked_feature_importance_TGCT_20200417.tsv\n",
      "predictions_collected_top_50_ranked_feature_importance_THCA_20200417.tsv\n",
      "predictions_collected_top_50_ranked_feature_importance_THYM_20200414.tsv\n",
      "predictions_collected_top_50_ranked_feature_importance_UCEC_20200417.tsv\n",
      "predictions_collected_top_50_ranked_feature_importance_UVM_20200417.tsv\n"
     ]
    }
   ],
   "source": [
    "predictions_collected_top_50_ranked_feature_importance_BLCA_20200414.tsv\n",
    "predictions_collected_top_50_ranked_feature_importance_BRCA_20200417.tsv"
   ]
  },
  {
   "cell_type": "code",
   "execution_count": 267,
   "metadata": {},
   "outputs": [
    {
     "ename": "SyntaxError",
     "evalue": "invalid syntax (<ipython-input-267-bbc0d25d30c6>, line 1)",
     "output_type": "error",
     "traceback": [
      "\u001b[0;36m  File \u001b[0;32m\"<ipython-input-267-bbc0d25d30c6>\"\u001b[0;36m, line \u001b[0;32m1\u001b[0m\n\u001b[0;31m    file=pd.read_csv('predictions_collected_top_50_ranked_feature_importance_'+c_typ+'_2020041'+*+'.tsv',\u001b[0m\n\u001b[0m                                                                                                ^\u001b[0m\n\u001b[0;31mSyntaxError\u001b[0m\u001b[0;31m:\u001b[0m invalid syntax\n"
     ]
    }
   ],
   "source": [
    "file=pd.read_csv('predictions_collected_top_50_ranked_feature_importance_'+c_typ+'_2020041'+*+'.tsv',\n",
    "                delimiter='\\t', header=[1])"
   ]
  },
  {
   "cell_type": "code",
   "execution_count": null,
   "metadata": {},
   "outputs": [],
   "source": [
    "cncr_typs=['ACC','BLCA','BRCA','CESC','COADREAD',\n",
    "            'ESCC','GEA','HNSC','KIRCKICH','KIRP',\n",
    "            'LGGGBM','LIHCCHOL','LUAD','LUSC','MESO',\n",
    "            'OV','PAAD','PCPG','PRAD','SARC',\n",
    "            'SKCM','TGCT','THCA','THYM','UCEC',\n",
    "            'UVM']"
   ]
  },
  {
   "cell_type": "code",
   "execution_count": 278,
   "metadata": {},
   "outputs": [
    {
     "name": "stdout",
     "output_type": "stream",
     "text": [
      "[1, 2, 3, 4, 5, 6]\n",
      "[0.7278634908438425]\n",
      "[0.7278634908438425, 0.5713220111323638]\n",
      "[0.7278634908438425, 0.5713220111323638, 0.44935765695844104]\n",
      "[0.7278634908438425, 0.5713220111323638, 0.44935765695844104, 0.7478675133750481]\n",
      "[0.7278634908438425, 0.5713220111323638, 0.44935765695844104, 0.7478675133750481, 0.29155659266413503]\n",
      "[0.7278634908438425, 0.5713220111323638, 0.44935765695844104, 0.7478675133750481, 0.29155659266413503, 0.1697858365228508]\n",
      "[1, 2]\n",
      "[0.757561408054568]\n",
      "[0.757561408054568, 0.6717803878375398]\n",
      "[1, 2, 3, 4, 5, 6, 7]\n",
      "[0.756496041565434]\n",
      "[0.756496041565434, 0.5045800460522418]\n",
      "[0.756496041565434, 0.5045800460522418, 0.3973807598353622]\n",
      "[0.756496041565434, 0.5045800460522418, 0.3973807598353622, 0.6587773234525747]\n",
      "[0.756496041565434, 0.5045800460522418, 0.3973807598353622, 0.6587773234525747, 0.3316381114882808]\n",
      "[0.756496041565434, 0.5045800460522418, 0.3973807598353622, 0.6587773234525747, 0.3316381114882808, 0.3128948637822893]\n",
      "[0.756496041565434, 0.5045800460522418, 0.3973807598353622, 0.6587773234525747, 0.3316381114882808, 0.3128948637822893, 0.8210682077169469]\n",
      "[1, 2, 3, 4, 5]\n",
      "[0.689159673865469]\n",
      "[0.689159673865469, 0.6419731265190192]\n",
      "[0.689159673865469, 0.6419731265190192, 0.4883986559224661]\n",
      "[0.689159673865469, 0.6419731265190192, 0.4883986559224661, 0.4445153213222414]\n",
      "[0.689159673865469, 0.6419731265190192, 0.4883986559224661, 0.4445153213222414, 0.7627750373616397]\n",
      "[1, 2]\n",
      "[0.9779194666903984]\n",
      "[0.9779194666903984, 0.8375935100270536]\n",
      "[1, 2, 3, 4]\n",
      "[0.8681351929421071]\n",
      "[0.8681351929421071, 0.503402803833137]\n",
      "[0.8681351929421071, 0.503402803833137, 0.40893401248300304]\n",
      "[0.8681351929421071, 0.503402803833137, 0.40893401248300304, 0.5037744840098266]\n",
      "[1, 2, 3, 4, 5, 6, 7]\n",
      "[0.8996381026184876]\n",
      "[0.8996381026184876, 0.6521389379947216]\n",
      "[0.8996381026184876, 0.6521389379947216, 0.906668224158656]\n",
      "[0.8996381026184876, 0.6521389379947216, 0.906668224158656, 0.6170254349800107]\n",
      "[0.8996381026184876, 0.6521389379947216, 0.906668224158656, 0.6170254349800107, 0.3229389321032495]\n",
      "[0.8996381026184876, 0.6521389379947216, 0.906668224158656, 0.6170254349800107, 0.3229389321032495, 0.37669411473424613]\n",
      "[0.8996381026184876, 0.6521389379947216, 0.906668224158656, 0.6170254349800107, 0.3229389321032495, 0.37669411473424613, 0.4046640740568606]\n",
      "[1, 2, 3]\n",
      "[0.8671893412048237]\n",
      "[0.8671893412048237, 0.9237893754333439]\n",
      "[0.8671893412048237, 0.9237893754333439, 0.8319908163689811]\n",
      "[1, 2, 3, 4, 5]\n",
      "[0.7587424283488563]\n",
      "[0.7587424283488563, 0.7027312595422982]\n",
      "[0.7587424283488563, 0.7027312595422982, 0.5853376898691741]\n",
      "[0.7587424283488563, 0.7027312595422982, 0.5853376898691741, 0.3786887993699367]\n",
      "[0.7587424283488563, 0.7027312595422982, 0.5853376898691741, 0.3786887993699367, 0.23939612172091926]\n",
      "[1, 2, 3, 4, 5, 6]\n",
      "[0.6572054972590876]\n",
      "[0.6572054972590876, 0.7475536896869612]\n",
      "[0.6572054972590876, 0.7475536896869612, 0.5469436891118936]\n",
      "[0.6572054972590876, 0.7475536896869612, 0.5469436891118936, 0.362586717097781]\n",
      "[0.6572054972590876, 0.7475536896869612, 0.5469436891118936, 0.362586717097781, 0.4895292593867973]\n",
      "[0.6572054972590876, 0.7475536896869612, 0.5469436891118936, 0.362586717097781, 0.4895292593867973, 0.33734790424562644]\n",
      "[1, 2, 3, 4]\n",
      "[0.44245000588945754]\n",
      "[0.44245000588945754, 0.5818698098324043]\n",
      "[0.44245000588945754, 0.5818698098324043, 0.619950951647106]\n",
      "[0.44245000588945754, 0.5818698098324043, 0.619950951647106, 0.4346871272625986]\n",
      "[1, 2, 3, 4]\n",
      "[0.6754419052169959]\n",
      "[0.6754419052169959, 0.5564573965545566]\n",
      "[0.6754419052169959, 0.5564573965545566, 0.7040076383855081]\n",
      "[0.6754419052169959, 0.5564573965545566, 0.7040076383855081, 0.7351002266354058]\n",
      "[1, 2]\n",
      "[0.8721634891141185]\n",
      "[0.8721634891141185, 0.681001023284988]\n",
      "[1, 2, 3, 4]\n",
      "[0.8068883478031368]\n",
      "[0.8068883478031368, 0.7774762229497582]\n",
      "[0.8068883478031368, 0.7774762229497582, 0.4607255405705535]\n",
      "[0.8068883478031368, 0.7774762229497582, 0.4607255405705535, 0.5598778859516175]\n",
      "[1, 2, 3]\n",
      "[0.9185042347351684]\n",
      "[0.9185042347351684, 0.78460803119913]\n",
      "[0.9185042347351684, 0.78460803119913, 0.7494619304472592]\n",
      "[1, 2, 3]\n",
      "[0.8391020952735194]\n",
      "[0.8391020952735194, 0.7739554683121935]\n",
      "[0.8391020952735194, 0.7739554683121935, 0.8498623421208392]\n",
      "[1, 2, 3, 4]\n",
      "[0.9061078003706927]\n",
      "[0.9061078003706927, 0.9005654587225171]\n",
      "[0.9061078003706927, 0.9005654587225171, 0.6779646871035081]\n",
      "[0.9061078003706927, 0.9005654587225171, 0.6779646871035081, 0.5484890706980214]\n",
      "[1, 2]\n",
      "[0.9324121458846083]\n",
      "[0.9324121458846083, 0.8937765024552821]\n",
      "[1, 2, 3]\n",
      "[0.7550069762810252]\n",
      "[0.7550069762810252, 0.6238620856196536]\n",
      "[0.7550069762810252, 0.6238620856196536, 0.602838252509453]\n",
      "[1, 2, 3, 4]\n",
      "[0.8332719041063259]\n",
      "[0.8332719041063259, 0.8289858808801792]\n",
      "[0.8332719041063259, 0.8289858808801792, 0.7875227583330338]\n",
      "[0.8332719041063259, 0.8289858808801792, 0.7875227583330338, 0.5339558019074759]\n",
      "[1, 2, 3, 4]\n",
      "[0.8369067311082704]\n",
      "[0.8369067311082704, 0.7850672299698697]\n",
      "[0.8369067311082704, 0.7850672299698697, 0.801597664469577]\n",
      "[0.8369067311082704, 0.7850672299698697, 0.801597664469577, 0.8190369783388833]\n",
      "[1, 2, 3, 4]\n",
      "[0.7874027465337414]\n",
      "[0.7874027465337414, 0.7650576528404976]\n",
      "[0.7874027465337414, 0.7650576528404976, 0.7120361307031772]\n",
      "[0.7874027465337414, 0.7650576528404976, 0.7120361307031772, 0.6461879808685458]\n"
     ]
    }
   ],
   "source": [
    "#Environment setup:\n",
    "# import pandas as pd\n",
    "# import statistics\n",
    "# import json\n",
    "# import numpy as np\n",
    "\n",
    "#Results dictionary for <subtype scores value> to <cancer type keys>\n",
    "#Raw_accuracy_by_subtype = {}\n",
    "\n",
    "#store_df2=pd.DataFrame() #amatuer method\n",
    "\n",
    "cncr_typs=['COADREAD',\n",
    "            'ESCC','GEA','HNSC','KIRCKICH','KIRP',\n",
    "            'LGGGBM','LIHCCHOL','LUAD','LUSC','MESO',\n",
    "            'OV','PAAD','PCPG','PRAD','SARC',\n",
    "            'SKCM','TGCT','THCA','THYM','UCEC',\n",
    "            'UVM']\n",
    "\n",
    "#cncr_typs=['ACC','BLCA']#devel\n",
    "for c_typ in cncr_typs:\n",
    "    file=pd.read_csv('predictions_collected_top_50_ranked_feature_importance_'+c_typ+'_20200417.tsv',\n",
    "                delimiter='\\t', header=[1]) #picking correct double header in tsv\n",
    "    file.Label=file.Label.str[-1]\n",
    "    \n",
    "    number_of_subtypes=file.Label.max()\n",
    "    number_of_subtypes=int(number_of_subtypes) # Make Label into integer\n",
    "    subtypes_end_range=number_of_subtypes+1\n",
    "    one_to_n=list(range(1,subtypes_end_range)) # list 1 through n subtypes\n",
    "    print(one_to_n) # List of labels for this cancer type\n",
    "\n",
    "    subtype_means=[]#list of the mean score fraction correct for each subtype within each cancer type\n",
    "    \n",
    "                           ### Not doing sort on Label, filtering on Label instead\n",
    "    for subtype_n in one_to_n:\n",
    "        dict_index_number=subtype_n-1 # shift subtype number to corresponding index position in score dictionary\n",
    "        subtype_n_str=str(subtype_n)\n",
    "        #print(subtype_n_str)\n",
    "        temp = file.loc[file['Label'] == subtype_n_str] # *** Create temporary df,\n",
    "       #                                                         filtered for each subtype. ***\n",
    "            \n",
    "        score_list=[]         # Make storage list for each sample in filtered subtype block\n",
    "\n",
    "        temp_re_ind=temp.reset_index() # Fix index to iterate in next step\n",
    "        for row in temp_re_ind.index:      # Go through each sample and get the\n",
    "    #                                           corresponding n subtype scores for that sample        \n",
    "            #print(j)\n",
    "            #print(temp_re_ind.tail())\n",
    "    #         break\n",
    "            x=temp_re_ind.iloc[row,6] # Prediction column shifted to posistion six after reindex\n",
    "\n",
    "            y=json.loads(x)\n",
    "            subtype_score_list=list(dict.values(y['classification'])) # Make a list from score dictionary\n",
    "            #print(a)\n",
    "            score_n=subtype_score_list[dict_index_number] # Pull score corresponding to subtype,\n",
    "                      #.     ^check this object after run to confirm that\n",
    "                #                  it matches the ending index number in score dictionary.\n",
    "           #                              *False positive drop point* \n",
    "            #print(score_n)\n",
    "            score_list=score_list+[score_n]\n",
    "        subype_n_mean=statistics.mean(score_list)  # Take mean of fraction correct row values\n",
    "        subtype_means=subtype_means+[subype_n_mean]\n",
    "        print(subtype_means) #check lengths\n",
    "    #Store the list of subtype accuracies for this cancer type\n",
    "    Raw_accuracy_by_subtype[c_typ]=subtype_means\n",
    "    #Go to next cancer typ"
   ]
  },
  {
   "cell_type": "code",
   "execution_count": 261,
   "metadata": {},
   "outputs": [
    {
     "data": {
      "text/plain": [
       "'BRCA'"
      ]
     },
     "execution_count": 261,
     "metadata": {},
     "output_type": "execute_result"
    }
   ],
   "source": [
    "c_typ"
   ]
  },
  {
   "cell_type": "code",
   "execution_count": 262,
   "metadata": {},
   "outputs": [
    {
     "data": {
      "text/plain": [
       "'/Users/karlberb/work/tmp/v8/Results/AKLIMATE/aklimate_predictions_and_features_20200422'"
      ]
     },
     "execution_count": 262,
     "metadata": {},
     "output_type": "execute_result"
    }
   ],
   "source": [
    "pwd"
   ]
  },
  {
   "cell_type": "code",
   "execution_count": 279,
   "metadata": {},
   "outputs": [
    {
     "data": {
      "text/plain": [
       "{'ACC': [0.6917640998628402, 0.5597748112045786, 0.37943219185097066],\n",
       " 'BLCA': [0.8005253858907699,\n",
       "  0.7277827629403577,\n",
       "  0.49647027559523094,\n",
       "  0.4713589367136984,\n",
       "  0.21673780703607667,\n",
       "  0.16653091358484604],\n",
       " 'BRCA': [0.86947573209182,\n",
       "  0.635435178238373,\n",
       "  0.9220666849660536,\n",
       "  0.5822745656630686],\n",
       " 'CESC': [0.8472660454749396, 0.672331158691349, 0.7949328047647971],\n",
       " 'COADREAD': [0.7278634908438425,\n",
       "  0.5713220111323638,\n",
       "  0.44935765695844104,\n",
       "  0.7478675133750481,\n",
       "  0.29155659266413503,\n",
       "  0.1697858365228508],\n",
       " 'ESCC': [0.757561408054568, 0.6717803878375398],\n",
       " 'GEA': [0.756496041565434,\n",
       "  0.5045800460522418,\n",
       "  0.3973807598353622,\n",
       "  0.6587773234525747,\n",
       "  0.3316381114882808,\n",
       "  0.3128948637822893,\n",
       "  0.8210682077169469],\n",
       " 'HNSC': [0.689159673865469,\n",
       "  0.6419731265190192,\n",
       "  0.4883986559224661,\n",
       "  0.4445153213222414,\n",
       "  0.7627750373616397],\n",
       " 'KIRCKICH': [0.9779194666903984, 0.8375935100270536],\n",
       " 'KIRP': [0.8681351929421071,\n",
       "  0.503402803833137,\n",
       "  0.40893401248300304,\n",
       "  0.5037744840098266],\n",
       " 'LGGGBM': [0.8996381026184876,\n",
       "  0.6521389379947216,\n",
       "  0.906668224158656,\n",
       "  0.6170254349800107,\n",
       "  0.3229389321032495,\n",
       "  0.37669411473424613,\n",
       "  0.4046640740568606],\n",
       " 'LIHCCHOL': [0.8671893412048237, 0.9237893754333439, 0.8319908163689811],\n",
       " 'LUAD': [0.7587424283488563,\n",
       "  0.7027312595422982,\n",
       "  0.5853376898691741,\n",
       "  0.3786887993699367,\n",
       "  0.23939612172091926],\n",
       " 'LUSC': [0.6572054972590876,\n",
       "  0.7475536896869612,\n",
       "  0.5469436891118936,\n",
       "  0.362586717097781,\n",
       "  0.4895292593867973,\n",
       "  0.33734790424562644],\n",
       " 'MESO': [0.44245000588945754,\n",
       "  0.5818698098324043,\n",
       "  0.619950951647106,\n",
       "  0.4346871272625986],\n",
       " 'OV': [0.6754419052169959,\n",
       "  0.5564573965545566,\n",
       "  0.7040076383855081,\n",
       "  0.7351002266354058],\n",
       " 'PAAD': [0.8721634891141185, 0.681001023284988],\n",
       " 'PCPG': [0.8068883478031368,\n",
       "  0.7774762229497582,\n",
       "  0.4607255405705535,\n",
       "  0.5598778859516175],\n",
       " 'PRAD': [0.9185042347351684, 0.78460803119913, 0.7494619304472592],\n",
       " 'SARC': [0.8391020952735194, 0.7739554683121935, 0.8498623421208392],\n",
       " 'SKCM': [0.9061078003706927,\n",
       "  0.9005654587225171,\n",
       "  0.6779646871035081,\n",
       "  0.5484890706980214],\n",
       " 'TGCT': [0.9324121458846083, 0.8937765024552821],\n",
       " 'THCA': [0.7550069762810252, 0.6238620856196536, 0.602838252509453],\n",
       " 'THYM': [0.8332719041063259,\n",
       "  0.8289858808801792,\n",
       "  0.7875227583330338,\n",
       "  0.5339558019074759],\n",
       " 'UCEC': [0.8369067311082704,\n",
       "  0.7850672299698697,\n",
       "  0.801597664469577,\n",
       "  0.8190369783388833],\n",
       " 'UVM': [0.7874027465337414,\n",
       "  0.7650576528404976,\n",
       "  0.7120361307031772,\n",
       "  0.6461879808685458]}"
      ]
     },
     "execution_count": 279,
     "metadata": {},
     "output_type": "execute_result"
    }
   ],
   "source": [
    "Raw_accuracy_by_subtype"
   ]
  },
  {
   "cell_type": "code",
   "execution_count": 288,
   "metadata": {},
   "outputs": [
    {
     "name": "stdout",
     "output_type": "stream",
     "text": [
      "AKLIMATE.ipynb\n",
      "AKLIMATE_scores.csv\n",
      "AKLIMATE_scores.txt\n",
      "\u001b[34maklimate_predictions_and_features_20200422\u001b[m\u001b[m/\n",
      "aklimate_predictions_and_features_20200422.tar.gz\n",
      "common_feature_set.tsv\n"
     ]
    }
   ],
   "source": [
    "ls"
   ]
  },
  {
   "cell_type": "code",
   "execution_count": 289,
   "metadata": {},
   "outputs": [
    {
     "ename": "ValueError",
     "evalue": "arrays must all be same length",
     "output_type": "error",
     "traceback": [
      "\u001b[0;31m---------------------------------------------------------------------------\u001b[0m",
      "\u001b[0;31mValueError\u001b[0m                                Traceback (most recent call last)",
      "\u001b[0;32m<ipython-input-289-09159d51b39c>\u001b[0m in \u001b[0;36m<module>\u001b[0;34m\u001b[0m\n\u001b[0;32m----> 1\u001b[0;31m \u001b[0mdf\u001b[0m\u001b[0;34m=\u001b[0m\u001b[0mpd\u001b[0m\u001b[0;34m.\u001b[0m\u001b[0mDataFrame\u001b[0m\u001b[0;34m(\u001b[0m\u001b[0mRaw_accuracy_by_subtype\u001b[0m\u001b[0;34m)\u001b[0m\u001b[0;34m\u001b[0m\u001b[0;34m\u001b[0m\u001b[0m\n\u001b[0m",
      "\u001b[0;32m~/anaconda3/lib/python3.7/site-packages/pandas/core/frame.py\u001b[0m in \u001b[0;36m__init__\u001b[0;34m(self, data, index, columns, dtype, copy)\u001b[0m\n\u001b[1;32m    390\u001b[0m                                  dtype=dtype, copy=copy)\n\u001b[1;32m    391\u001b[0m         \u001b[0;32melif\u001b[0m \u001b[0misinstance\u001b[0m\u001b[0;34m(\u001b[0m\u001b[0mdata\u001b[0m\u001b[0;34m,\u001b[0m \u001b[0mdict\u001b[0m\u001b[0;34m)\u001b[0m\u001b[0;34m:\u001b[0m\u001b[0;34m\u001b[0m\u001b[0;34m\u001b[0m\u001b[0m\n\u001b[0;32m--> 392\u001b[0;31m             \u001b[0mmgr\u001b[0m \u001b[0;34m=\u001b[0m \u001b[0minit_dict\u001b[0m\u001b[0;34m(\u001b[0m\u001b[0mdata\u001b[0m\u001b[0;34m,\u001b[0m \u001b[0mindex\u001b[0m\u001b[0;34m,\u001b[0m \u001b[0mcolumns\u001b[0m\u001b[0;34m,\u001b[0m \u001b[0mdtype\u001b[0m\u001b[0;34m=\u001b[0m\u001b[0mdtype\u001b[0m\u001b[0;34m)\u001b[0m\u001b[0;34m\u001b[0m\u001b[0;34m\u001b[0m\u001b[0m\n\u001b[0m\u001b[1;32m    393\u001b[0m         \u001b[0;32melif\u001b[0m \u001b[0misinstance\u001b[0m\u001b[0;34m(\u001b[0m\u001b[0mdata\u001b[0m\u001b[0;34m,\u001b[0m \u001b[0mma\u001b[0m\u001b[0;34m.\u001b[0m\u001b[0mMaskedArray\u001b[0m\u001b[0;34m)\u001b[0m\u001b[0;34m:\u001b[0m\u001b[0;34m\u001b[0m\u001b[0;34m\u001b[0m\u001b[0m\n\u001b[1;32m    394\u001b[0m             \u001b[0;32mimport\u001b[0m \u001b[0mnumpy\u001b[0m\u001b[0;34m.\u001b[0m\u001b[0mma\u001b[0m\u001b[0;34m.\u001b[0m\u001b[0mmrecords\u001b[0m \u001b[0;32mas\u001b[0m \u001b[0mmrecords\u001b[0m\u001b[0;34m\u001b[0m\u001b[0;34m\u001b[0m\u001b[0m\n",
      "\u001b[0;32m~/anaconda3/lib/python3.7/site-packages/pandas/core/internals/construction.py\u001b[0m in \u001b[0;36minit_dict\u001b[0;34m(data, index, columns, dtype)\u001b[0m\n\u001b[1;32m    210\u001b[0m         \u001b[0marrays\u001b[0m \u001b[0;34m=\u001b[0m \u001b[0;34m[\u001b[0m\u001b[0mdata\u001b[0m\u001b[0;34m[\u001b[0m\u001b[0mk\u001b[0m\u001b[0;34m]\u001b[0m \u001b[0;32mfor\u001b[0m \u001b[0mk\u001b[0m \u001b[0;32min\u001b[0m \u001b[0mkeys\u001b[0m\u001b[0;34m]\u001b[0m\u001b[0;34m\u001b[0m\u001b[0;34m\u001b[0m\u001b[0m\n\u001b[1;32m    211\u001b[0m \u001b[0;34m\u001b[0m\u001b[0m\n\u001b[0;32m--> 212\u001b[0;31m     \u001b[0;32mreturn\u001b[0m \u001b[0marrays_to_mgr\u001b[0m\u001b[0;34m(\u001b[0m\u001b[0marrays\u001b[0m\u001b[0;34m,\u001b[0m \u001b[0mdata_names\u001b[0m\u001b[0;34m,\u001b[0m \u001b[0mindex\u001b[0m\u001b[0;34m,\u001b[0m \u001b[0mcolumns\u001b[0m\u001b[0;34m,\u001b[0m \u001b[0mdtype\u001b[0m\u001b[0;34m=\u001b[0m\u001b[0mdtype\u001b[0m\u001b[0;34m)\u001b[0m\u001b[0;34m\u001b[0m\u001b[0;34m\u001b[0m\u001b[0m\n\u001b[0m\u001b[1;32m    213\u001b[0m \u001b[0;34m\u001b[0m\u001b[0m\n\u001b[1;32m    214\u001b[0m \u001b[0;34m\u001b[0m\u001b[0m\n",
      "\u001b[0;32m~/anaconda3/lib/python3.7/site-packages/pandas/core/internals/construction.py\u001b[0m in \u001b[0;36marrays_to_mgr\u001b[0;34m(arrays, arr_names, index, columns, dtype)\u001b[0m\n\u001b[1;32m     49\u001b[0m     \u001b[0;31m# figure out the index, if necessary\u001b[0m\u001b[0;34m\u001b[0m\u001b[0;34m\u001b[0m\u001b[0;34m\u001b[0m\u001b[0m\n\u001b[1;32m     50\u001b[0m     \u001b[0;32mif\u001b[0m \u001b[0mindex\u001b[0m \u001b[0;32mis\u001b[0m \u001b[0;32mNone\u001b[0m\u001b[0;34m:\u001b[0m\u001b[0;34m\u001b[0m\u001b[0;34m\u001b[0m\u001b[0m\n\u001b[0;32m---> 51\u001b[0;31m         \u001b[0mindex\u001b[0m \u001b[0;34m=\u001b[0m \u001b[0mextract_index\u001b[0m\u001b[0;34m(\u001b[0m\u001b[0marrays\u001b[0m\u001b[0;34m)\u001b[0m\u001b[0;34m\u001b[0m\u001b[0;34m\u001b[0m\u001b[0m\n\u001b[0m\u001b[1;32m     52\u001b[0m     \u001b[0;32melse\u001b[0m\u001b[0;34m:\u001b[0m\u001b[0;34m\u001b[0m\u001b[0;34m\u001b[0m\u001b[0m\n\u001b[1;32m     53\u001b[0m         \u001b[0mindex\u001b[0m \u001b[0;34m=\u001b[0m \u001b[0mensure_index\u001b[0m\u001b[0;34m(\u001b[0m\u001b[0mindex\u001b[0m\u001b[0;34m)\u001b[0m\u001b[0;34m\u001b[0m\u001b[0;34m\u001b[0m\u001b[0m\n",
      "\u001b[0;32m~/anaconda3/lib/python3.7/site-packages/pandas/core/internals/construction.py\u001b[0m in \u001b[0;36mextract_index\u001b[0;34m(data)\u001b[0m\n\u001b[1;32m    315\u001b[0m             \u001b[0mlengths\u001b[0m \u001b[0;34m=\u001b[0m \u001b[0mlist\u001b[0m\u001b[0;34m(\u001b[0m\u001b[0mset\u001b[0m\u001b[0;34m(\u001b[0m\u001b[0mraw_lengths\u001b[0m\u001b[0;34m)\u001b[0m\u001b[0;34m)\u001b[0m\u001b[0;34m\u001b[0m\u001b[0;34m\u001b[0m\u001b[0m\n\u001b[1;32m    316\u001b[0m             \u001b[0;32mif\u001b[0m \u001b[0mlen\u001b[0m\u001b[0;34m(\u001b[0m\u001b[0mlengths\u001b[0m\u001b[0;34m)\u001b[0m \u001b[0;34m>\u001b[0m \u001b[0;36m1\u001b[0m\u001b[0;34m:\u001b[0m\u001b[0;34m\u001b[0m\u001b[0;34m\u001b[0m\u001b[0m\n\u001b[0;32m--> 317\u001b[0;31m                 \u001b[0;32mraise\u001b[0m \u001b[0mValueError\u001b[0m\u001b[0;34m(\u001b[0m\u001b[0;34m'arrays must all be same length'\u001b[0m\u001b[0;34m)\u001b[0m\u001b[0;34m\u001b[0m\u001b[0;34m\u001b[0m\u001b[0m\n\u001b[0m\u001b[1;32m    318\u001b[0m \u001b[0;34m\u001b[0m\u001b[0m\n\u001b[1;32m    319\u001b[0m             \u001b[0;32mif\u001b[0m \u001b[0mhave_dicts\u001b[0m\u001b[0;34m:\u001b[0m\u001b[0;34m\u001b[0m\u001b[0;34m\u001b[0m\u001b[0m\n",
      "\u001b[0;31mValueError\u001b[0m: arrays must all be same length"
     ]
    }
   ],
   "source": [
    "df=pd.DataFrame(Raw_accuracy_by_subtype)"
   ]
  },
  {
   "cell_type": "code",
   "execution_count": 287,
   "metadata": {},
   "outputs": [],
   "source": [
    "w=csv.writer(open('AKLIMATE_scores.csv', 'w'))\n",
    "for key, val in Raw_accuracy_by_subtype.items():\n",
    "    w.writerow([key, val])"
   ]
  },
  {
   "cell_type": "code",
   "execution_count": 291,
   "metadata": {},
   "outputs": [
    {
     "ename": "AttributeError",
     "evalue": "'str' object has no attribute 'dumps'",
     "output_type": "error",
     "traceback": [
      "\u001b[0;31m---------------------------------------------------------------------------\u001b[0m",
      "\u001b[0;31mAttributeError\u001b[0m                            Traceback (most recent call last)",
      "\u001b[0;32m<ipython-input-291-9e564b4ea515>\u001b[0m in \u001b[0;36m<module>\u001b[0;34m\u001b[0m\n\u001b[1;32m      1\u001b[0m \u001b[0mdict\u001b[0m\u001b[0;34m=\u001b[0m\u001b[0mRaw_accuracy_by_subtype\u001b[0m\u001b[0;34m\u001b[0m\u001b[0;34m\u001b[0m\u001b[0m\n\u001b[0;32m----> 2\u001b[0;31m \u001b[0mjson\u001b[0m\u001b[0;34m=\u001b[0m\u001b[0mjson\u001b[0m\u001b[0;34m.\u001b[0m\u001b[0mdumps\u001b[0m\u001b[0;34m(\u001b[0m\u001b[0mdict\u001b[0m\u001b[0;34m)\u001b[0m\u001b[0;34m\u001b[0m\u001b[0;34m\u001b[0m\u001b[0m\n\u001b[0m\u001b[1;32m      3\u001b[0m \u001b[0mf\u001b[0m\u001b[0;34m=\u001b[0m\u001b[0mopen\u001b[0m\u001b[0;34m(\u001b[0m\u001b[0;34m'dict.json'\u001b[0m\u001b[0;34m,\u001b[0m\u001b[0;34m'w'\u001b[0m\u001b[0;34m)\u001b[0m\u001b[0;34m\u001b[0m\u001b[0;34m\u001b[0m\u001b[0m\n\u001b[1;32m      4\u001b[0m \u001b[0mf\u001b[0m\u001b[0;34m.\u001b[0m\u001b[0mwrite\u001b[0m\u001b[0;34m(\u001b[0m\u001b[0mjson\u001b[0m\u001b[0;34m)\u001b[0m\u001b[0;34m\u001b[0m\u001b[0;34m\u001b[0m\u001b[0m\n\u001b[1;32m      5\u001b[0m \u001b[0mf\u001b[0m\u001b[0;34m.\u001b[0m\u001b[0mclose\u001b[0m\u001b[0;34m\u001b[0m\u001b[0;34m\u001b[0m\u001b[0m\n",
      "\u001b[0;31mAttributeError\u001b[0m: 'str' object has no attribute 'dumps'"
     ]
    }
   ],
   "source": [
    "dict=Raw_accuracy_by_subtype\n",
    "json=json.dumps(dict)\n",
    "f=open('dict.json','w')\n",
    "f.write(json)\n",
    "f.close"
   ]
  },
  {
   "cell_type": "code",
   "execution_count": 292,
   "metadata": {},
   "outputs": [],
   "source": [
    "f = open('Aklimate_raw_accuracy_by_subtype.txt','w') # this worked\n",
    "f.write( str(Raw_accuracy_by_subtype) )\n",
    "f.close()"
   ]
  },
  {
   "cell_type": "code",
   "execution_count": 286,
   "metadata": {},
   "outputs": [
    {
     "data": {
      "text/plain": [
       "<_csv.writer at 0x1290a4af0>"
      ]
     },
     "execution_count": 286,
     "metadata": {},
     "output_type": "execute_result"
    }
   ],
   "source": [
    "w"
   ]
  },
  {
   "cell_type": "code",
   "execution_count": 284,
   "metadata": {},
   "outputs": [],
   "source": [
    "import csv"
   ]
  },
  {
   "cell_type": "code",
   "execution_count": 249,
   "metadata": {},
   "outputs": [
    {
     "data": {
      "text/plain": [
       "str"
      ]
     },
     "execution_count": 249,
     "metadata": {},
     "output_type": "execute_result"
    }
   ],
   "source": [
    "type(i)"
   ]
  },
  {
   "cell_type": "code",
   "execution_count": 248,
   "metadata": {},
   "outputs": [
    {
     "name": "stdout",
     "output_type": "stream",
     "text": [
      "ACC\n"
     ]
    }
   ],
   "source": [
    "for i in cncr_typs:\n",
    "    print(i)\n",
    "    break"
   ]
  },
  {
   "cell_type": "code",
   "execution_count": 245,
   "metadata": {},
   "outputs": [],
   "source": [
    "cncr_typs=['ACC','BLCA']"
   ]
  },
  {
   "cell_type": "code",
   "execution_count": 251,
   "metadata": {},
   "outputs": [
    {
     "data": {
      "text/plain": [
       "{}"
      ]
     },
     "execution_count": 251,
     "metadata": {},
     "output_type": "execute_result"
    }
   ],
   "source": [
    "Raw_accuracy_by_subtype"
   ]
  },
  {
   "cell_type": "code",
   "execution_count": 242,
   "metadata": {},
   "outputs": [
    {
     "data": {
      "text/plain": [
       "dict"
      ]
     },
     "execution_count": 242,
     "metadata": {},
     "output_type": "execute_result"
    }
   ],
   "source": [
    "type(Raw_accuracy_by_subtype)"
   ]
  },
  {
   "cell_type": "code",
   "execution_count": 250,
   "metadata": {},
   "outputs": [
    {
     "data": {
      "text/plain": [
       "[0.6958736363636363, 0.5671305555555556, 0.3910891228070175]"
      ]
     },
     "execution_count": 250,
     "metadata": {},
     "output_type": "execute_result"
    }
   ],
   "source": [
    "subtype_means"
   ]
  },
  {
   "cell_type": "code",
   "execution_count": 243,
   "metadata": {},
   "outputs": [
    {
     "data": {
      "text/plain": [
       "list"
      ]
     },
     "execution_count": 243,
     "metadata": {},
     "output_type": "execute_result"
    }
   ],
   "source": [
    "type(subtype_means)"
   ]
  },
  {
   "cell_type": "code",
   "execution_count": 244,
   "metadata": {},
   "outputs": [
    {
     "data": {
      "text/plain": [
       "0        False\n",
       "1        False\n",
       "2        False\n",
       "3        False\n",
       "4        False\n",
       "5         True\n",
       "6         True\n",
       "7        False\n",
       "8        False\n",
       "9         True\n",
       "10       False\n",
       "11       False\n",
       "12       False\n",
       "13       False\n",
       "14       False\n",
       "15       False\n",
       "16       False\n",
       "17       False\n",
       "18       False\n",
       "19        True\n",
       "20       False\n",
       "21       False\n",
       "22       False\n",
       "23       False\n",
       "24       False\n",
       "25       False\n",
       "26        True\n",
       "27       False\n",
       "28       False\n",
       "29        True\n",
       "         ...  \n",
       "37970     True\n",
       "37971    False\n",
       "37972    False\n",
       "37973    False\n",
       "37974    False\n",
       "37975    False\n",
       "37976    False\n",
       "37977    False\n",
       "37978    False\n",
       "37979    False\n",
       "37980    False\n",
       "37981    False\n",
       "37982    False\n",
       "37983    False\n",
       "37984     True\n",
       "37985     True\n",
       "37986    False\n",
       "37987     True\n",
       "37988    False\n",
       "37989     True\n",
       "37990    False\n",
       "37991    False\n",
       "37992     True\n",
       "37993    False\n",
       "37994    False\n",
       "37995    False\n",
       "37996    False\n",
       "37997    False\n",
       "37998    False\n",
       "37999    False\n",
       "Name: Test, Length: 38000, dtype: bool"
      ]
     },
     "execution_count": 244,
     "metadata": {},
     "output_type": "execute_result"
    }
   ],
   "source": [
    "c_typ"
   ]
  },
  {
   "cell_type": "code",
   "execution_count": 65,
   "metadata": {},
   "outputs": [
    {
     "ename": "ValueError",
     "evalue": "invalid literal for int() with base 10: 'ACC_3'",
     "output_type": "error",
     "traceback": [
      "\u001b[0;31m---------------------------------------------------------------------------\u001b[0m",
      "\u001b[0;31mValueError\u001b[0m                                Traceback (most recent call last)",
      "\u001b[0;32m<ipython-input-65-c828a940d87d>\u001b[0m in \u001b[0;36m<module>\u001b[0;34m\u001b[0m\n\u001b[1;32m     26\u001b[0m     \u001b[0;31m# Get number of features\u001b[0m\u001b[0;34m\u001b[0m\u001b[0;34m\u001b[0m\u001b[0;34m\u001b[0m\u001b[0m\n\u001b[1;32m     27\u001b[0m     \u001b[0msub_n_mx\u001b[0m\u001b[0;34m=\u001b[0m\u001b[0mfile\u001b[0m\u001b[0;34m.\u001b[0m\u001b[0mLabel\u001b[0m\u001b[0;34m.\u001b[0m\u001b[0mmax\u001b[0m\u001b[0;34m(\u001b[0m\u001b[0;34m)\u001b[0m\u001b[0;34m\u001b[0m\u001b[0;34m\u001b[0m\u001b[0m\n\u001b[0;32m---> 28\u001b[0;31m     \u001b[0msm\u001b[0m\u001b[0;34m=\u001b[0m\u001b[0mint\u001b[0m\u001b[0;34m(\u001b[0m\u001b[0msub_n_mx\u001b[0m\u001b[0;34m)\u001b[0m\u001b[0;34m\u001b[0m\u001b[0;34m\u001b[0m\u001b[0m\n\u001b[0m\u001b[1;32m     29\u001b[0m \u001b[0;34m\u001b[0m\u001b[0m\n\u001b[1;32m     30\u001b[0m     \u001b[0;31m# Make iterable len of number of features\u001b[0m\u001b[0;34m\u001b[0m\u001b[0;34m\u001b[0m\u001b[0;34m\u001b[0m\u001b[0m\n",
      "\u001b[0;31mValueError\u001b[0m: invalid literal for int() with base 10: 'ACC_3'"
     ]
    }
   ],
   "source": [
    "store_df2=pd.DataFrame()\n",
    "cncr_typs=['ACC','BLCA','BRCA','CESC','COADREAD',\n",
    "            'ESCC','GEA','HNSC','KIRCKICH','KIRP',\n",
    "            'LGGGBM','LIHCCHOL','LUAD','LUSC','MESO',\n",
    "            'OV','PAAD','PCPG','PRAD','SARC',\n",
    "            'SKCM','TGCT','THCA','THYM','UCEC',\n",
    "            'UVM']\n",
    "            \n",
    "                ####.  Step through the cancer types\n",
    "for s, k in enumerate(cncr_typs):\n",
    "    file=pd.read_csv('predictions_collected_top_50_ranked_feature_importance_'+i+'_20200414.tsv',\n",
    "                delimiter='\\t', header=[1])\n",
    "\n",
    "    #### .    ######\n",
    "######         \n",
    "    file=file[(file['Test']==1)] # Filter for test results # Critical #\n",
    "###### \n",
    "    ####      ######\n",
    "\n",
    "    file.columns=['Sample_ID','Repeat','Fold','Test','Label','Prediction']\n",
    "\n",
    "    file=file.sort_values(by=['Label'])\n",
    "\n",
    "    # Get number of labels\n",
    "    sub_n_mx=file.Label.max()\n",
    "    sm=int(sub_n_mx)\n",
    "\n",
    "    # Make iterable len of number of features\n",
    "    sm_plus1=sm+1\n",
    "    #Y=np.arange(1,sm_plus1)\n",
    "    Label_list=list(range(1,sm_plus1))\n",
    "    g_list=[]\n",
    "    data=[0]\n",
    "\n",
    "    # For each of n subtypes:\n",
    "    for subtype_number in Label_list:\n",
    "        m=str(l)\n",
    "\n",
    "        \n",
    "        g_list=g_list+[gn]\n",
    "        # Prediction lists\n",
    "        p_list=[]\n",
    "        # Make one for each g list\n",
    "        for n in Y:\n",
    "            \n",
    "            \n",
    "            \n",
    "            p_list=p_list+[p_len]\n",
    "            #print(p_len)\n",
    "        data.append(p_list)\n",
    "    data[0]=g_list\n",
    "\n",
    "    # Begin analysis section step one, make 572 x 7\n",
    "    store=[] # This is a horizontal df\n",
    "    #Columns will be 572 combos\n",
    "    #Rows are subtypes, n=range(2,7)\n",
    "    for zer_indx, g_star in enumerate(g_list):\n",
    "        one_indx=zer_indx+1\n",
    "        p_lst=data[one_indx]\n",
    "        p_star=p_lst[zer_indx]\n",
    "        raw_acc=p_star/g_star\n",
    "        name=i+'_'+j+'_'+k\n",
    "        store.append(raw_acc)\n",
    "        dat={name:store}\n",
    "        temp_df=pd.DataFrame(dat)\n",
    "    store_df2=pd.concat([store_df2, temp_df], axis=1)\n",
    "    #Create store_df for fbed run, then toggle off\n",
    "    #Use same temp df to write rfe onto completed fbed df \n",
    "\n",
    "    #Post mortem notes - Use this as new template for figure loop\n",
    "    #Make figures for the 26 best combos\n",
    "\n",
    "    #write function to pull subgraph as needed"
   ]
  }
 ],
 "metadata": {
  "kernelspec": {
   "display_name": "Python 3",
   "language": "python",
   "name": "python3"
  },
  "language_info": {
   "codemirror_mode": {
    "name": "ipython",
    "version": 3
   },
   "file_extension": ".py",
   "mimetype": "text/x-python",
   "name": "python",
   "nbconvert_exporter": "python",
   "pygments_lexer": "ipython3",
   "version": "3.7.3"
  }
 },
 "nbformat": 4,
 "nbformat_minor": 2
}
